{
 "cells": [
  {
   "cell_type": "code",
   "execution_count": 9,
   "metadata": {
    "_cell_guid": "79c7e3d0-c299-4dcb-8224-4455121ee9b0",
    "_kg_hide-input": false,
    "_kg_hide-output": false,
    "_uuid": "d629ff2d2480ee46fbb7e2d37f6b5fab8052498a",
    "collapsed": true
   },
   "outputs": [],
   "source": [
    "# import os\n",
    "# print(os.listdir(\"../input/tinyversions\"))\n",
    "\n",
    "import numpy as np \n",
    "import pandas as pd \n",
    "import string\n",
    "\n",
    "import nltk\n",
    "from nltk import pos_tag\n",
    "from nltk.corpus import stopwords\n",
    "\n",
    "from sklearn.feature_extraction.text import TfidfVectorizer\n",
    "from sklearn.linear_model import LogisticRegression\n",
    "from sklearn.model_selection import cross_val_score\n",
    "from sklearn.base import BaseEstimator, TransformerMixin\n",
    "from sklearn.pipeline import FeatureUnion\n",
    "from sklearn.pipeline import Pipeline\n",
    "from sklearn.feature_extraction import DictVectorizer\n",
    "\n"
   ]
  },
  {
   "cell_type": "code",
   "execution_count": 2,
   "metadata": {
    "collapsed": true
   },
   "outputs": [],
   "source": [
    "classes = ['toxic', 'severe_toxic', 'obscene', 'threat', 'insult', 'identity_hate']\n",
    "\n",
    "train = pd.read_csv('data/tiny_train.csv').fillna(' ')\n",
    "test = pd.read_csv('data/test.csv').fillna(' ')\n",
    "badwords = pd.read_csv('data/bad-words.csv', header=None).iloc[:,0].tolist()\n",
    "\n",
    "# train = pd.read_csv('../input/tinyversions/tiny_train.csv').fillna(' ')\n",
    "# train = pd.read_csv('../input/jigsaw-toxic-comment-classification-challenge/train.csv').fillna(' ')\n",
    "# test = pd.read_csv('../input/jigsaw-toxic-comment-classification-challenge/test.csv').fillna(' ')\n",
    "\n",
    "train_text = train['comment_text']\n",
    "test_text = test['comment_text']\n",
    "all_text = pd.concat([train_text, test_text])"
   ]
  },
  {
   "cell_type": "code",
   "execution_count": 3,
   "metadata": {
    "_cell_guid": "8f1addca-c1a5-482f-91a2-9bb6a9a8d426",
    "_uuid": "9eb8c1f9c8137a8b1f96eb821ca50d9bd438aef1",
    "collapsed": true
   },
   "outputs": [],
   "source": [
    "# Word Vectorizer\n",
    "word_vectorizer = TfidfVectorizer(\n",
    "    sublinear_tf=True,\n",
    "    strip_accents='unicode',\n",
    "    analyzer='word',\n",
    "    token_pattern=r'\\w{1,}',\n",
    "    ngram_range=(1, 1),\n",
    "    max_features=20000)\n",
    "\n",
    "# N-gram Character Vectorizer\n",
    "char_vectorizer = TfidfVectorizer(\n",
    "    sublinear_tf=True,\n",
    "    strip_accents='unicode',\n",
    "    analyzer='char',\n",
    "    ngram_range=(1, 4),\n",
    "    max_features=30000)\n"
   ]
  },
  {
   "cell_type": "code",
   "execution_count": 4,
   "metadata": {
    "collapsed": true
   },
   "outputs": [],
   "source": [
    "# Parts of Speech Tag Count \n",
    "class PoS_TagFeatures(TransformerMixin):\n",
    "    \n",
    "    def tag_PoS(self, text):\n",
    "        text_splited = text.split(' ')\n",
    "        text_splited = [''.join(c for c in s if c not in string.punctuation) for s in text_splited]\n",
    "        text_splited = [s for s in text_splited if s]\n",
    "        pos_list = pos_tag(text_splited)\n",
    "        noun_count = len([w for w in pos_list if w[1] in ('NN','NNP','NNPS','NNS')])\n",
    "        adjective_count = len([w for w in pos_list if w[1] in ('JJ','JJR','JJS')])\n",
    "        verb_count = len([w for w in pos_list if w[1] in ('VB','VBD','VBG','VBN','VBP','VBZ')])\n",
    "        return [noun_count, adjective_count, verb_count]\n",
    "    \n",
    "    def fit(self, x, y=None):\n",
    "        return self\n",
    "    \n",
    "    def transform(self, posts):\n",
    "        return [{'nouns': counts[0],\n",
    "                 'adjectives': counts[1],\n",
    "                 'verbs': counts[2]}\n",
    "                for counts in map(self.tag_PoS, posts)]\n",
    "    \n",
    "# Pipelining Parts of Speech Tag Features with DictVectorizer for processing\n",
    "posTag_vectorizer = Pipeline([\n",
    "    ('parts_of_speech', PoS_TagFeatures()),\n",
    "    ('dictVect', DictVectorizer(sparse = False))\n",
    "])"
   ]
  },
  {
   "cell_type": "code",
   "execution_count": 15,
   "metadata": {
    "_cell_guid": "e66ea469-91d7-4c9c-ae5d-dc17faca1c8f",
    "_uuid": "3a7bbd42c35f0a6e2572927f472d34de08b4f93b"
   },
   "outputs": [],
   "source": [
    "# Bad Words Occurance Count\n",
    "class BadWords_Features(TransformerMixin):\n",
    "    \n",
    "    def badWordCount(self, text):\n",
    "        badCount = sum(text.count(w) for w in badwords)\n",
    "        return [badCount, badCount/len(text.split()), badCount/len(text)]\n",
    "    \n",
    "    def fit(self, x, y=None):\n",
    "        return self\n",
    "    \n",
    "    def transform(self, posts):\n",
    "        return [{'badwordcount': badCounts[0],\n",
    "                 'normByTotalWords': badCounts[1],\n",
    "                 'normByTotalChars': badCounts[2]}\n",
    "                for badCounts in map(self.badWordCount, posts)]\n",
    "    \n",
    "# Pipelining Bad Word Features with DictVectorizer for processing\n",
    "badWord_vectorizer = Pipeline([\n",
    "    ('bad_words', BadWords_Features()),\n",
    "    ('dictVect', DictVectorizer(sparse = False))\n",
    "])\n"
   ]
  },
  {
   "cell_type": "code",
   "execution_count": 46,
   "metadata": {
    "_cell_guid": "556598fd-b518-4821-b0c9-76f317dbbdf1",
    "_uuid": "4938d6441f88bf1c07e8df67c9c1dea8f81d0767",
    "collapsed": true
   },
   "outputs": [],
   "source": [
    "\n",
    "class ExtractedFeatures(TransformerMixin):\n",
    "    def fit(self, x, y=None):\n",
    "        return self\n",
    "    \n",
    "    def transform(self, posts):\n",
    "        return [{'length': len(text),\n",
    "                 'num_sentences': text.count('.')}\n",
    "                for text in posts]\n",
    "    \n",
    "# Pipelining Extracted Features with DictVectorizer for processing\n",
    "featureVectorizer = Pipeline([\n",
    "    ('extractor', ExtractedFeatures()),\n",
    "    ('dictVect', DictVectorizer(sparse = False))\n",
    "])"
   ]
  },
  {
   "cell_type": "code",
   "execution_count": 16,
   "metadata": {
    "_uuid": "59a04db9a504c832b894619488ce86e9e995015f"
   },
   "outputs": [
    {
     "name": "stdout",
     "output_type": "stream",
     "text": [
      "(20, 6806)\n"
     ]
    }
   ],
   "source": [
    "combined_features = FeatureUnion([(\"word\", word_vectorizer), (\"char\", char_vectorizer), (\"pos_tags\", posTag_vectorizer), \n",
    "                                  (\"bad_word\", badWord_vectorizer)])\n",
    "train_features = combined_features.fit(train_text, train[\"toxic\"]).transform(train_text)\n",
    "\n",
    "print(train_features.shape)"
   ]
  },
  {
   "cell_type": "code",
   "execution_count": null,
   "metadata": {
    "_cell_guid": "8f6a5cc8-ac41-4fa0-b79a-f668b2db90be",
    "_uuid": "99d5028277e737806c485130562fa4070a308f96",
    "collapsed": true
   },
   "outputs": [],
   "source": [
    "scores = []\n",
    "submission = pd.DataFrame.from_dict({'id': test['id']})\n",
    "for clas in classes:\n",
    "    train_target = train[clas]\n",
    "    classifier = LogisticRegression(solver='sag')\n",
    "\n",
    "    cv_score = np.mean(cross_val_score(\n",
    "        classifier, train_features, train_target, cv=3, scoring='roc_auc'))\n",
    "    scores.append(cv_score)\n",
    "    print('CV score for class {} is {}'.format(clas, cv_score))\n",
    "\n",
    "    classifier.fit(train_features, train_target)\n",
    "    submission[clas] = classifier.predict_proba(test_features)[:, 1]\n",
    "\n",
    "print('Total CV score is {}'.format(np.mean(scores)))\n",
    "submission.head()"
   ]
  },
  {
   "cell_type": "code",
   "execution_count": null,
   "metadata": {
    "_cell_guid": "ec27691d-6587-4b50-999e-1fa02848904f",
    "_uuid": "63442e9b8efd489a14a89c8d40f8f3b6182b509b",
    "collapsed": true
   },
   "outputs": [],
   "source": [
    "submission.to_csv('submission.csv', index=False)"
   ]
  }
 ],
 "metadata": {
  "kernelspec": {
   "display_name": "Python 2",
   "language": "python",
   "name": "python2"
  },
  "language_info": {
   "codemirror_mode": {
    "name": "ipython",
    "version": 2
   },
   "file_extension": ".py",
   "mimetype": "text/x-python",
   "name": "python",
   "nbconvert_exporter": "python",
   "pygments_lexer": "ipython2",
   "version": "2.7.14"
  }
 },
 "nbformat": 4,
 "nbformat_minor": 1
}
